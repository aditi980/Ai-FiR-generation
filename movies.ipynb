{
  "cells": [
    {
      "cell_type": "markdown",
      "metadata": {
        "id": "view-in-github",
        "colab_type": "text"
      },
      "source": [
        "<a href=\"https://colab.research.google.com/github/aditi980/Ai-FiR-generation/blob/main/movies.ipynb\" target=\"_parent\"><img src=\"https://colab.research.google.com/assets/colab-badge.svg\" alt=\"Open In Colab\"/></a>"
      ]
    },
    {
      "cell_type": "code",
      "execution_count": null,
      "metadata": {
        "id": "1V6okn_RuSG7"
      },
      "outputs": [],
      "source": [
        "import tensorflow as tf\n",
        "import pandas as pd\n",
        "import matplotlib.pyplot as plt\n",
        "from sklearn.metrics.pairwise import linear_kernel\n",
        "from sklearn.feature_extraction.text import TfidfVectorizer\n",
        "import functools\n",
        "import ipywidgets as widgets\n",
        "from IPython.display import display, Image\n",
        "import numpy as np\n",
        "import matplotlib.pyplot as plt"
      ]
    },
    {
      "cell_type": "code",
      "source": [
        "import matplotlib.pyplot as plt\n",
        "import seaborn as sns"
      ],
      "metadata": {
        "id": "FZk576L-4JkT"
      },
      "execution_count": null,
      "outputs": []
    },
    {
      "cell_type": "code",
      "execution_count": null,
      "metadata": {
        "id": "ZbcQ4SLNuWns"
      },
      "outputs": [],
      "source": [
        "df = pd.read_csv('/content/movies2024.csv')\n"
      ]
    },
    {
      "cell_type": "code",
      "execution_count": null,
      "metadata": {
        "colab": {
          "base_uri": "https://localhost:8080/",
          "height": 712
        },
        "id": "qqL_mrGzS7Mt",
        "outputId": "36654285-7885-4aae-9d27-6f4dc0c0e13f"
      },
      "outputs": [
        {
          "output_type": "execute_result",
          "data": {
            "text/plain": [
              "   MovieID                 Title  Popularity  \\\n",
              "0   533535  Deadpool & Wolverine    5948.017   \n",
              "1  1022789          Inside Out 2    3128.461   \n",
              "2   519182       Despicable Me 4    2384.852   \n",
              "3   718821              Twisters    2251.448   \n",
              "4   704239             The Union    1791.389   \n",
              "\n",
              "                                            Overview  \\\n",
              "0  A listless Wade Wilson toils away in civilian ...   \n",
              "1  Teenager Riley's mind headquarters is undergoi...   \n",
              "2  Gru and Lucy and their girls—Margo, Edith and ...   \n",
              "3  As storm season intensifies, the paths of form...   \n",
              "4  A New Jersey construction worker goes from reg...   \n",
              "\n",
              "                                 Genres  \\\n",
              "0       Action, Comedy, Science Fiction   \n",
              "1  Animation, Family, Adventure, Comedy   \n",
              "2     Animation, Family, Comedy, Action   \n",
              "3    Action, Adventure, Drama, Thriller   \n",
              "4                        Action, Comedy   \n",
              "\n",
              "                                              Actors        Directors  \\\n",
              "0  Ryan Reynolds, Hugh Jackman, Emma Corrin, Matt...       Shawn Levy   \n",
              "1  Amy Poehler, Maya Hawke, Kensington Tallman, L...      Kelsey Mann   \n",
              "2  Steve Carell, Kristen Wiig, Will Ferrell, Sofí...     Chris Renaud   \n",
              "3  Daisy Edgar-Jones, Glen Powell, Anthony Ramos,...  Lee Isaac Chung   \n",
              "4  Mark Wahlberg, Halle Berry, J.K. Simmons, Mike...    Julian Farino   \n",
              "\n",
              "   VoteAverage  ReleaseYear  \n",
              "0        7.763       2024.0  \n",
              "1        7.678       2024.0  \n",
              "2        7.297       2024.0  \n",
              "3        7.039       2024.0  \n",
              "4        6.368       2024.0  "
            ],
            "text/html": [
              "\n",
              "  <div id=\"df-c81f9c90-032d-45bb-95dd-a12c6f726787\" class=\"colab-df-container\">\n",
              "    <div>\n",
              "<style scoped>\n",
              "    .dataframe tbody tr th:only-of-type {\n",
              "        vertical-align: middle;\n",
              "    }\n",
              "\n",
              "    .dataframe tbody tr th {\n",
              "        vertical-align: top;\n",
              "    }\n",
              "\n",
              "    .dataframe thead th {\n",
              "        text-align: right;\n",
              "    }\n",
              "</style>\n",
              "<table border=\"1\" class=\"dataframe\">\n",
              "  <thead>\n",
              "    <tr style=\"text-align: right;\">\n",
              "      <th></th>\n",
              "      <th>MovieID</th>\n",
              "      <th>Title</th>\n",
              "      <th>Popularity</th>\n",
              "      <th>Overview</th>\n",
              "      <th>Genres</th>\n",
              "      <th>Actors</th>\n",
              "      <th>Directors</th>\n",
              "      <th>VoteAverage</th>\n",
              "      <th>ReleaseYear</th>\n",
              "    </tr>\n",
              "  </thead>\n",
              "  <tbody>\n",
              "    <tr>\n",
              "      <th>0</th>\n",
              "      <td>533535</td>\n",
              "      <td>Deadpool &amp; Wolverine</td>\n",
              "      <td>5948.017</td>\n",
              "      <td>A listless Wade Wilson toils away in civilian ...</td>\n",
              "      <td>Action, Comedy, Science Fiction</td>\n",
              "      <td>Ryan Reynolds, Hugh Jackman, Emma Corrin, Matt...</td>\n",
              "      <td>Shawn Levy</td>\n",
              "      <td>7.763</td>\n",
              "      <td>2024.0</td>\n",
              "    </tr>\n",
              "    <tr>\n",
              "      <th>1</th>\n",
              "      <td>1022789</td>\n",
              "      <td>Inside Out 2</td>\n",
              "      <td>3128.461</td>\n",
              "      <td>Teenager Riley's mind headquarters is undergoi...</td>\n",
              "      <td>Animation, Family, Adventure, Comedy</td>\n",
              "      <td>Amy Poehler, Maya Hawke, Kensington Tallman, L...</td>\n",
              "      <td>Kelsey Mann</td>\n",
              "      <td>7.678</td>\n",
              "      <td>2024.0</td>\n",
              "    </tr>\n",
              "    <tr>\n",
              "      <th>2</th>\n",
              "      <td>519182</td>\n",
              "      <td>Despicable Me 4</td>\n",
              "      <td>2384.852</td>\n",
              "      <td>Gru and Lucy and their girls—Margo, Edith and ...</td>\n",
              "      <td>Animation, Family, Comedy, Action</td>\n",
              "      <td>Steve Carell, Kristen Wiig, Will Ferrell, Sofí...</td>\n",
              "      <td>Chris Renaud</td>\n",
              "      <td>7.297</td>\n",
              "      <td>2024.0</td>\n",
              "    </tr>\n",
              "    <tr>\n",
              "      <th>3</th>\n",
              "      <td>718821</td>\n",
              "      <td>Twisters</td>\n",
              "      <td>2251.448</td>\n",
              "      <td>As storm season intensifies, the paths of form...</td>\n",
              "      <td>Action, Adventure, Drama, Thriller</td>\n",
              "      <td>Daisy Edgar-Jones, Glen Powell, Anthony Ramos,...</td>\n",
              "      <td>Lee Isaac Chung</td>\n",
              "      <td>7.039</td>\n",
              "      <td>2024.0</td>\n",
              "    </tr>\n",
              "    <tr>\n",
              "      <th>4</th>\n",
              "      <td>704239</td>\n",
              "      <td>The Union</td>\n",
              "      <td>1791.389</td>\n",
              "      <td>A New Jersey construction worker goes from reg...</td>\n",
              "      <td>Action, Comedy</td>\n",
              "      <td>Mark Wahlberg, Halle Berry, J.K. Simmons, Mike...</td>\n",
              "      <td>Julian Farino</td>\n",
              "      <td>6.368</td>\n",
              "      <td>2024.0</td>\n",
              "    </tr>\n",
              "  </tbody>\n",
              "</table>\n",
              "</div>\n",
              "    <div class=\"colab-df-buttons\">\n",
              "\n",
              "  <div class=\"colab-df-container\">\n",
              "    <button class=\"colab-df-convert\" onclick=\"convertToInteractive('df-c81f9c90-032d-45bb-95dd-a12c6f726787')\"\n",
              "            title=\"Convert this dataframe to an interactive table.\"\n",
              "            style=\"display:none;\">\n",
              "\n",
              "  <svg xmlns=\"http://www.w3.org/2000/svg\" height=\"24px\" viewBox=\"0 -960 960 960\">\n",
              "    <path d=\"M120-120v-720h720v720H120Zm60-500h600v-160H180v160Zm220 220h160v-160H400v160Zm0 220h160v-160H400v160ZM180-400h160v-160H180v160Zm440 0h160v-160H620v160ZM180-180h160v-160H180v160Zm440 0h160v-160H620v160Z\"/>\n",
              "  </svg>\n",
              "    </button>\n",
              "\n",
              "  <style>\n",
              "    .colab-df-container {\n",
              "      display:flex;\n",
              "      gap: 12px;\n",
              "    }\n",
              "\n",
              "    .colab-df-convert {\n",
              "      background-color: #E8F0FE;\n",
              "      border: none;\n",
              "      border-radius: 50%;\n",
              "      cursor: pointer;\n",
              "      display: none;\n",
              "      fill: #1967D2;\n",
              "      height: 32px;\n",
              "      padding: 0 0 0 0;\n",
              "      width: 32px;\n",
              "    }\n",
              "\n",
              "    .colab-df-convert:hover {\n",
              "      background-color: #E2EBFA;\n",
              "      box-shadow: 0px 1px 2px rgba(60, 64, 67, 0.3), 0px 1px 3px 1px rgba(60, 64, 67, 0.15);\n",
              "      fill: #174EA6;\n",
              "    }\n",
              "\n",
              "    .colab-df-buttons div {\n",
              "      margin-bottom: 4px;\n",
              "    }\n",
              "\n",
              "    [theme=dark] .colab-df-convert {\n",
              "      background-color: #3B4455;\n",
              "      fill: #D2E3FC;\n",
              "    }\n",
              "\n",
              "    [theme=dark] .colab-df-convert:hover {\n",
              "      background-color: #434B5C;\n",
              "      box-shadow: 0px 1px 3px 1px rgba(0, 0, 0, 0.15);\n",
              "      filter: drop-shadow(0px 1px 2px rgba(0, 0, 0, 0.3));\n",
              "      fill: #FFFFFF;\n",
              "    }\n",
              "  </style>\n",
              "\n",
              "    <script>\n",
              "      const buttonEl =\n",
              "        document.querySelector('#df-c81f9c90-032d-45bb-95dd-a12c6f726787 button.colab-df-convert');\n",
              "      buttonEl.style.display =\n",
              "        google.colab.kernel.accessAllowed ? 'block' : 'none';\n",
              "\n",
              "      async function convertToInteractive(key) {\n",
              "        const element = document.querySelector('#df-c81f9c90-032d-45bb-95dd-a12c6f726787');\n",
              "        const dataTable =\n",
              "          await google.colab.kernel.invokeFunction('convertToInteractive',\n",
              "                                                    [key], {});\n",
              "        if (!dataTable) return;\n",
              "\n",
              "        const docLinkHtml = 'Like what you see? Visit the ' +\n",
              "          '<a target=\"_blank\" href=https://colab.research.google.com/notebooks/data_table.ipynb>data table notebook</a>'\n",
              "          + ' to learn more about interactive tables.';\n",
              "        element.innerHTML = '';\n",
              "        dataTable['output_type'] = 'display_data';\n",
              "        await google.colab.output.renderOutput(dataTable, element);\n",
              "        const docLink = document.createElement('div');\n",
              "        docLink.innerHTML = docLinkHtml;\n",
              "        element.appendChild(docLink);\n",
              "      }\n",
              "    </script>\n",
              "  </div>\n",
              "\n",
              "\n",
              "<div id=\"df-650e52f4-38ce-462d-8134-d75f3b389735\">\n",
              "  <button class=\"colab-df-quickchart\" onclick=\"quickchart('df-650e52f4-38ce-462d-8134-d75f3b389735')\"\n",
              "            title=\"Suggest charts\"\n",
              "            style=\"display:none;\">\n",
              "\n",
              "<svg xmlns=\"http://www.w3.org/2000/svg\" height=\"24px\"viewBox=\"0 0 24 24\"\n",
              "     width=\"24px\">\n",
              "    <g>\n",
              "        <path d=\"M19 3H5c-1.1 0-2 .9-2 2v14c0 1.1.9 2 2 2h14c1.1 0 2-.9 2-2V5c0-1.1-.9-2-2-2zM9 17H7v-7h2v7zm4 0h-2V7h2v10zm4 0h-2v-4h2v4z\"/>\n",
              "    </g>\n",
              "</svg>\n",
              "  </button>\n",
              "\n",
              "<style>\n",
              "  .colab-df-quickchart {\n",
              "      --bg-color: #E8F0FE;\n",
              "      --fill-color: #1967D2;\n",
              "      --hover-bg-color: #E2EBFA;\n",
              "      --hover-fill-color: #174EA6;\n",
              "      --disabled-fill-color: #AAA;\n",
              "      --disabled-bg-color: #DDD;\n",
              "  }\n",
              "\n",
              "  [theme=dark] .colab-df-quickchart {\n",
              "      --bg-color: #3B4455;\n",
              "      --fill-color: #D2E3FC;\n",
              "      --hover-bg-color: #434B5C;\n",
              "      --hover-fill-color: #FFFFFF;\n",
              "      --disabled-bg-color: #3B4455;\n",
              "      --disabled-fill-color: #666;\n",
              "  }\n",
              "\n",
              "  .colab-df-quickchart {\n",
              "    background-color: var(--bg-color);\n",
              "    border: none;\n",
              "    border-radius: 50%;\n",
              "    cursor: pointer;\n",
              "    display: none;\n",
              "    fill: var(--fill-color);\n",
              "    height: 32px;\n",
              "    padding: 0;\n",
              "    width: 32px;\n",
              "  }\n",
              "\n",
              "  .colab-df-quickchart:hover {\n",
              "    background-color: var(--hover-bg-color);\n",
              "    box-shadow: 0 1px 2px rgba(60, 64, 67, 0.3), 0 1px 3px 1px rgba(60, 64, 67, 0.15);\n",
              "    fill: var(--button-hover-fill-color);\n",
              "  }\n",
              "\n",
              "  .colab-df-quickchart-complete:disabled,\n",
              "  .colab-df-quickchart-complete:disabled:hover {\n",
              "    background-color: var(--disabled-bg-color);\n",
              "    fill: var(--disabled-fill-color);\n",
              "    box-shadow: none;\n",
              "  }\n",
              "\n",
              "  .colab-df-spinner {\n",
              "    border: 2px solid var(--fill-color);\n",
              "    border-color: transparent;\n",
              "    border-bottom-color: var(--fill-color);\n",
              "    animation:\n",
              "      spin 1s steps(1) infinite;\n",
              "  }\n",
              "\n",
              "  @keyframes spin {\n",
              "    0% {\n",
              "      border-color: transparent;\n",
              "      border-bottom-color: var(--fill-color);\n",
              "      border-left-color: var(--fill-color);\n",
              "    }\n",
              "    20% {\n",
              "      border-color: transparent;\n",
              "      border-left-color: var(--fill-color);\n",
              "      border-top-color: var(--fill-color);\n",
              "    }\n",
              "    30% {\n",
              "      border-color: transparent;\n",
              "      border-left-color: var(--fill-color);\n",
              "      border-top-color: var(--fill-color);\n",
              "      border-right-color: var(--fill-color);\n",
              "    }\n",
              "    40% {\n",
              "      border-color: transparent;\n",
              "      border-right-color: var(--fill-color);\n",
              "      border-top-color: var(--fill-color);\n",
              "    }\n",
              "    60% {\n",
              "      border-color: transparent;\n",
              "      border-right-color: var(--fill-color);\n",
              "    }\n",
              "    80% {\n",
              "      border-color: transparent;\n",
              "      border-right-color: var(--fill-color);\n",
              "      border-bottom-color: var(--fill-color);\n",
              "    }\n",
              "    90% {\n",
              "      border-color: transparent;\n",
              "      border-bottom-color: var(--fill-color);\n",
              "    }\n",
              "  }\n",
              "</style>\n",
              "\n",
              "  <script>\n",
              "    async function quickchart(key) {\n",
              "      const quickchartButtonEl =\n",
              "        document.querySelector('#' + key + ' button');\n",
              "      quickchartButtonEl.disabled = true;  // To prevent multiple clicks.\n",
              "      quickchartButtonEl.classList.add('colab-df-spinner');\n",
              "      try {\n",
              "        const charts = await google.colab.kernel.invokeFunction(\n",
              "            'suggestCharts', [key], {});\n",
              "      } catch (error) {\n",
              "        console.error('Error during call to suggestCharts:', error);\n",
              "      }\n",
              "      quickchartButtonEl.classList.remove('colab-df-spinner');\n",
              "      quickchartButtonEl.classList.add('colab-df-quickchart-complete');\n",
              "    }\n",
              "    (() => {\n",
              "      let quickchartButtonEl =\n",
              "        document.querySelector('#df-650e52f4-38ce-462d-8134-d75f3b389735 button');\n",
              "      quickchartButtonEl.style.display =\n",
              "        google.colab.kernel.accessAllowed ? 'block' : 'none';\n",
              "    })();\n",
              "  </script>\n",
              "</div>\n",
              "\n",
              "    </div>\n",
              "  </div>\n"
            ],
            "application/vnd.google.colaboratory.intrinsic+json": {
              "type": "dataframe",
              "variable_name": "df",
              "summary": "{\n  \"name\": \"df\",\n  \"rows\": 9000,\n  \"fields\": [\n    {\n      \"column\": \"MovieID\",\n      \"properties\": {\n        \"dtype\": \"number\",\n        \"std\": 406107,\n        \"min\": 5,\n        \"max\": 1330560,\n        \"num_unique_values\": 7647,\n        \"samples\": [\n          44115,\n          250480,\n          1082063\n        ],\n        \"semantic_type\": \"\",\n        \"description\": \"\"\n      }\n    },\n    {\n      \"column\": \"Title\",\n      \"properties\": {\n        \"dtype\": \"string\",\n        \"num_unique_values\": 7405,\n        \"samples\": [\n          \"Hostage\",\n          \"Police Academy 5: Assignment Miami Beach\",\n          \"New Folder 2\"\n        ],\n        \"semantic_type\": \"\",\n        \"description\": \"\"\n      }\n    },\n    {\n      \"column\": \"Popularity\",\n      \"properties\": {\n        \"dtype\": \"number\",\n        \"std\": 103.83339263948898,\n        \"min\": 9.638,\n        \"max\": 5948.017,\n        \"num_unique_values\": 6661,\n        \"samples\": [\n          21.16,\n          28.658,\n          71.395\n        ],\n        \"semantic_type\": \"\",\n        \"description\": \"\"\n      }\n    },\n    {\n      \"column\": \"Overview\",\n      \"properties\": {\n        \"dtype\": \"string\",\n        \"num_unique_values\": 7586,\n        \"samples\": [\n          \"Harley Quinn joins forces with a singer, an assassin and a police detective to help a young girl who had a hit placed on her after she stole a rare diamond from a crime lord.\",\n          \"Love and Farewell intertwine in the tale of two souls, Kath and Lin, who are destined to be apart. As Kath descends into the ocean's depths, Lin faces a solar storm in the vastness of space. Their struggles are immense, yet they bring them together in the multiverse. Despite their meetings, happiness eludes them. Every world they encounter presents new barriers, leading to separation, loss, and heartbreak. Continually wounded by fate, they are challenged to overcome their destined separation. Can they defy fate, find true love, and finally live happily together?\",\n          \"Catherine, a novelist with an insatiable sexual appetite, becomes a prime suspect when her boyfriend is brutally murdered -- a crime she had described in her latest story.\"\n        ],\n        \"semantic_type\": \"\",\n        \"description\": \"\"\n      }\n    },\n    {\n      \"column\": \"Genres\",\n      \"properties\": {\n        \"dtype\": \"category\",\n        \"num_unique_values\": 1939,\n        \"samples\": [\n          \"Comedy, Thriller, Crime\",\n          \"Action, Drama, Mystery, Thriller, Crime\",\n          \"Science Fiction, Action, Fantasy, Adventure\"\n        ],\n        \"semantic_type\": \"\",\n        \"description\": \"\"\n      }\n    },\n    {\n      \"column\": \"Actors\",\n      \"properties\": {\n        \"dtype\": \"string\",\n        \"num_unique_values\": 7575,\n        \"samples\": [\n          \"Michael Rooker, Bruce Willis, Olga Kurylenko, John Malkovich, Lorenzo Antonucci, Michael Rose, Vadhir Derbez, Lauren Buglioli, Ski Carr, Josef Cannon\",\n          \"Frankie Muniz, Hayden Panettiere, Bruce Greenwood, Mandy Moore, Wendie Malick, M. Emmet Walsh, Snoop Dogg, Michael Clarke Duncan, Jeff Foxworthy, Whoopi Goldberg, Steve Harvey, Dustin Hoffman, Joshua Jackson, Joe Pantoliano, Michael Rosenbaum, David Spade, Gary Bullock, Fred Thompson, Caspar Poyck, Thandi Puren, Morn\\u00e9 Visser, Dawn Matthews, Matt Stern, John Lesley, Graeme Hawkins, Tarryn Meaker, Jansen Panettiere, Frankie Ryan Manriquez, Kyle Alcazar, Dee Bradley Baker, Bob Bergen, Jess Harnell\",\n          \"Ataska Mercado, Dyessa Garcia, Mhack Morales, Horace Mendoza, Jem Milton, Nathan Cajucom, Aries Night, Anthony Dabao, Jonica Lazo, Mae Andres, Beaulah\"\n        ],\n        \"semantic_type\": \"\",\n        \"description\": \"\"\n      }\n    },\n    {\n      \"column\": \"Directors\",\n      \"properties\": {\n        \"dtype\": \"category\",\n        \"num_unique_values\": 4315,\n        \"samples\": [\n          \"Karla Gonzalez Echeverria, Chandler Johnson\",\n          \"Sophia Banks\",\n          \"Y\\u014dichi Higashi\"\n        ],\n        \"semantic_type\": \"\",\n        \"description\": \"\"\n      }\n    },\n    {\n      \"column\": \"VoteAverage\",\n      \"properties\": {\n        \"dtype\": \"number\",\n        \"std\": 1.5141698316029992,\n        \"min\": 0.0,\n        \"max\": 10.0,\n        \"num_unique_values\": 2630,\n        \"samples\": [\n          7.338,\n          5.7,\n          6.837\n        ],\n        \"semantic_type\": \"\",\n        \"description\": \"\"\n      }\n    },\n    {\n      \"column\": \"ReleaseYear\",\n      \"properties\": {\n        \"dtype\": \"number\",\n        \"std\": 17.144813127573993,\n        \"min\": 1902.0,\n        \"max\": 2029.0,\n        \"num_unique_values\": 106,\n        \"samples\": [\n          1944.0,\n          1972.0,\n          2002.0\n        ],\n        \"semantic_type\": \"\",\n        \"description\": \"\"\n      }\n    }\n  ]\n}"
            }
          },
          "metadata": {},
          "execution_count": 70
        }
      ],
      "source": [
        "df.head()"
      ]
    },
    {
      "cell_type": "code",
      "execution_count": null,
      "metadata": {
        "colab": {
          "base_uri": "https://localhost:8080/",
          "height": 205
        },
        "id": "t_JCL5UbMfY0",
        "outputId": "bac599df-c611-452b-c8c4-2b9b2f9c651f"
      },
      "outputs": [
        {
          "output_type": "execute_result",
          "data": {
            "text/plain": [
              "   MovieID                 Title  Popularity  \\\n",
              "0   533535  Deadpool & Wolverine    5948.017   \n",
              "\n",
              "                                            Overview  \\\n",
              "0  A listless Wade Wilson toils away in civilian ...   \n",
              "\n",
              "                            Genres  \\\n",
              "0  Action, Comedy, Science Fiction   \n",
              "\n",
              "                                              Actors   Directors  VoteAverage  \\\n",
              "0  Ryan Reynolds, Hugh Jackman, Emma Corrin, Matt...  Shawn Levy        7.763   \n",
              "\n",
              "   ReleaseYear  \n",
              "0       2024.0  "
            ],
            "text/html": [
              "\n",
              "  <div id=\"df-9b89d062-9807-4e85-843f-4f3291dd28b2\" class=\"colab-df-container\">\n",
              "    <div>\n",
              "<style scoped>\n",
              "    .dataframe tbody tr th:only-of-type {\n",
              "        vertical-align: middle;\n",
              "    }\n",
              "\n",
              "    .dataframe tbody tr th {\n",
              "        vertical-align: top;\n",
              "    }\n",
              "\n",
              "    .dataframe thead th {\n",
              "        text-align: right;\n",
              "    }\n",
              "</style>\n",
              "<table border=\"1\" class=\"dataframe\">\n",
              "  <thead>\n",
              "    <tr style=\"text-align: right;\">\n",
              "      <th></th>\n",
              "      <th>MovieID</th>\n",
              "      <th>Title</th>\n",
              "      <th>Popularity</th>\n",
              "      <th>Overview</th>\n",
              "      <th>Genres</th>\n",
              "      <th>Actors</th>\n",
              "      <th>Directors</th>\n",
              "      <th>VoteAverage</th>\n",
              "      <th>ReleaseYear</th>\n",
              "    </tr>\n",
              "  </thead>\n",
              "  <tbody>\n",
              "    <tr>\n",
              "      <th>0</th>\n",
              "      <td>533535</td>\n",
              "      <td>Deadpool &amp; Wolverine</td>\n",
              "      <td>5948.017</td>\n",
              "      <td>A listless Wade Wilson toils away in civilian ...</td>\n",
              "      <td>Action, Comedy, Science Fiction</td>\n",
              "      <td>Ryan Reynolds, Hugh Jackman, Emma Corrin, Matt...</td>\n",
              "      <td>Shawn Levy</td>\n",
              "      <td>7.763</td>\n",
              "      <td>2024.0</td>\n",
              "    </tr>\n",
              "  </tbody>\n",
              "</table>\n",
              "</div>\n",
              "    <div class=\"colab-df-buttons\">\n",
              "\n",
              "  <div class=\"colab-df-container\">\n",
              "    <button class=\"colab-df-convert\" onclick=\"convertToInteractive('df-9b89d062-9807-4e85-843f-4f3291dd28b2')\"\n",
              "            title=\"Convert this dataframe to an interactive table.\"\n",
              "            style=\"display:none;\">\n",
              "\n",
              "  <svg xmlns=\"http://www.w3.org/2000/svg\" height=\"24px\" viewBox=\"0 -960 960 960\">\n",
              "    <path d=\"M120-120v-720h720v720H120Zm60-500h600v-160H180v160Zm220 220h160v-160H400v160Zm0 220h160v-160H400v160ZM180-400h160v-160H180v160Zm440 0h160v-160H620v160ZM180-180h160v-160H180v160Zm440 0h160v-160H620v160Z\"/>\n",
              "  </svg>\n",
              "    </button>\n",
              "\n",
              "  <style>\n",
              "    .colab-df-container {\n",
              "      display:flex;\n",
              "      gap: 12px;\n",
              "    }\n",
              "\n",
              "    .colab-df-convert {\n",
              "      background-color: #E8F0FE;\n",
              "      border: none;\n",
              "      border-radius: 50%;\n",
              "      cursor: pointer;\n",
              "      display: none;\n",
              "      fill: #1967D2;\n",
              "      height: 32px;\n",
              "      padding: 0 0 0 0;\n",
              "      width: 32px;\n",
              "    }\n",
              "\n",
              "    .colab-df-convert:hover {\n",
              "      background-color: #E2EBFA;\n",
              "      box-shadow: 0px 1px 2px rgba(60, 64, 67, 0.3), 0px 1px 3px 1px rgba(60, 64, 67, 0.15);\n",
              "      fill: #174EA6;\n",
              "    }\n",
              "\n",
              "    .colab-df-buttons div {\n",
              "      margin-bottom: 4px;\n",
              "    }\n",
              "\n",
              "    [theme=dark] .colab-df-convert {\n",
              "      background-color: #3B4455;\n",
              "      fill: #D2E3FC;\n",
              "    }\n",
              "\n",
              "    [theme=dark] .colab-df-convert:hover {\n",
              "      background-color: #434B5C;\n",
              "      box-shadow: 0px 1px 3px 1px rgba(0, 0, 0, 0.15);\n",
              "      filter: drop-shadow(0px 1px 2px rgba(0, 0, 0, 0.3));\n",
              "      fill: #FFFFFF;\n",
              "    }\n",
              "  </style>\n",
              "\n",
              "    <script>\n",
              "      const buttonEl =\n",
              "        document.querySelector('#df-9b89d062-9807-4e85-843f-4f3291dd28b2 button.colab-df-convert');\n",
              "      buttonEl.style.display =\n",
              "        google.colab.kernel.accessAllowed ? 'block' : 'none';\n",
              "\n",
              "      async function convertToInteractive(key) {\n",
              "        const element = document.querySelector('#df-9b89d062-9807-4e85-843f-4f3291dd28b2');\n",
              "        const dataTable =\n",
              "          await google.colab.kernel.invokeFunction('convertToInteractive',\n",
              "                                                    [key], {});\n",
              "        if (!dataTable) return;\n",
              "\n",
              "        const docLinkHtml = 'Like what you see? Visit the ' +\n",
              "          '<a target=\"_blank\" href=https://colab.research.google.com/notebooks/data_table.ipynb>data table notebook</a>'\n",
              "          + ' to learn more about interactive tables.';\n",
              "        element.innerHTML = '';\n",
              "        dataTable['output_type'] = 'display_data';\n",
              "        await google.colab.output.renderOutput(dataTable, element);\n",
              "        const docLink = document.createElement('div');\n",
              "        docLink.innerHTML = docLinkHtml;\n",
              "        element.appendChild(docLink);\n",
              "      }\n",
              "    </script>\n",
              "  </div>\n",
              "\n",
              "\n",
              "    </div>\n",
              "  </div>\n"
            ],
            "application/vnd.google.colaboratory.intrinsic+json": {
              "type": "dataframe",
              "variable_name": "df",
              "summary": "{\n  \"name\": \"df\",\n  \"rows\": 9000,\n  \"fields\": [\n    {\n      \"column\": \"MovieID\",\n      \"properties\": {\n        \"dtype\": \"number\",\n        \"std\": 406107,\n        \"min\": 5,\n        \"max\": 1330560,\n        \"num_unique_values\": 7647,\n        \"samples\": [\n          44115,\n          250480,\n          1082063\n        ],\n        \"semantic_type\": \"\",\n        \"description\": \"\"\n      }\n    },\n    {\n      \"column\": \"Title\",\n      \"properties\": {\n        \"dtype\": \"string\",\n        \"num_unique_values\": 7405,\n        \"samples\": [\n          \"Hostage\",\n          \"Police Academy 5: Assignment Miami Beach\",\n          \"New Folder 2\"\n        ],\n        \"semantic_type\": \"\",\n        \"description\": \"\"\n      }\n    },\n    {\n      \"column\": \"Popularity\",\n      \"properties\": {\n        \"dtype\": \"number\",\n        \"std\": 103.83339263948898,\n        \"min\": 9.638,\n        \"max\": 5948.017,\n        \"num_unique_values\": 6661,\n        \"samples\": [\n          21.16,\n          28.658,\n          71.395\n        ],\n        \"semantic_type\": \"\",\n        \"description\": \"\"\n      }\n    },\n    {\n      \"column\": \"Overview\",\n      \"properties\": {\n        \"dtype\": \"string\",\n        \"num_unique_values\": 7586,\n        \"samples\": [\n          \"Harley Quinn joins forces with a singer, an assassin and a police detective to help a young girl who had a hit placed on her after she stole a rare diamond from a crime lord.\",\n          \"Love and Farewell intertwine in the tale of two souls, Kath and Lin, who are destined to be apart. As Kath descends into the ocean's depths, Lin faces a solar storm in the vastness of space. Their struggles are immense, yet they bring them together in the multiverse. Despite their meetings, happiness eludes them. Every world they encounter presents new barriers, leading to separation, loss, and heartbreak. Continually wounded by fate, they are challenged to overcome their destined separation. Can they defy fate, find true love, and finally live happily together?\",\n          \"Catherine, a novelist with an insatiable sexual appetite, becomes a prime suspect when her boyfriend is brutally murdered -- a crime she had described in her latest story.\"\n        ],\n        \"semantic_type\": \"\",\n        \"description\": \"\"\n      }\n    },\n    {\n      \"column\": \"Genres\",\n      \"properties\": {\n        \"dtype\": \"category\",\n        \"num_unique_values\": 1939,\n        \"samples\": [\n          \"Comedy, Thriller, Crime\",\n          \"Action, Drama, Mystery, Thriller, Crime\",\n          \"Science Fiction, Action, Fantasy, Adventure\"\n        ],\n        \"semantic_type\": \"\",\n        \"description\": \"\"\n      }\n    },\n    {\n      \"column\": \"Actors\",\n      \"properties\": {\n        \"dtype\": \"string\",\n        \"num_unique_values\": 7575,\n        \"samples\": [\n          \"Michael Rooker, Bruce Willis, Olga Kurylenko, John Malkovich, Lorenzo Antonucci, Michael Rose, Vadhir Derbez, Lauren Buglioli, Ski Carr, Josef Cannon\",\n          \"Frankie Muniz, Hayden Panettiere, Bruce Greenwood, Mandy Moore, Wendie Malick, M. Emmet Walsh, Snoop Dogg, Michael Clarke Duncan, Jeff Foxworthy, Whoopi Goldberg, Steve Harvey, Dustin Hoffman, Joshua Jackson, Joe Pantoliano, Michael Rosenbaum, David Spade, Gary Bullock, Fred Thompson, Caspar Poyck, Thandi Puren, Morn\\u00e9 Visser, Dawn Matthews, Matt Stern, John Lesley, Graeme Hawkins, Tarryn Meaker, Jansen Panettiere, Frankie Ryan Manriquez, Kyle Alcazar, Dee Bradley Baker, Bob Bergen, Jess Harnell\",\n          \"Ataska Mercado, Dyessa Garcia, Mhack Morales, Horace Mendoza, Jem Milton, Nathan Cajucom, Aries Night, Anthony Dabao, Jonica Lazo, Mae Andres, Beaulah\"\n        ],\n        \"semantic_type\": \"\",\n        \"description\": \"\"\n      }\n    },\n    {\n      \"column\": \"Directors\",\n      \"properties\": {\n        \"dtype\": \"category\",\n        \"num_unique_values\": 4315,\n        \"samples\": [\n          \"Karla Gonzalez Echeverria, Chandler Johnson\",\n          \"Sophia Banks\",\n          \"Y\\u014dichi Higashi\"\n        ],\n        \"semantic_type\": \"\",\n        \"description\": \"\"\n      }\n    },\n    {\n      \"column\": \"VoteAverage\",\n      \"properties\": {\n        \"dtype\": \"number\",\n        \"std\": 1.5141698316029992,\n        \"min\": 0.0,\n        \"max\": 10.0,\n        \"num_unique_values\": 2630,\n        \"samples\": [\n          7.338,\n          5.7,\n          6.837\n        ],\n        \"semantic_type\": \"\",\n        \"description\": \"\"\n      }\n    },\n    {\n      \"column\": \"ReleaseYear\",\n      \"properties\": {\n        \"dtype\": \"number\",\n        \"std\": 17.144813127573993,\n        \"min\": 1902.0,\n        \"max\": 2029.0,\n        \"num_unique_values\": 106,\n        \"samples\": [\n          1944.0,\n          1972.0,\n          2002.0\n        ],\n        \"semantic_type\": \"\",\n        \"description\": \"\"\n      }\n    }\n  ]\n}"
            }
          },
          "metadata": {},
          "execution_count": 71
        }
      ],
      "source": [
        "df.head(1)"
      ]
    },
    {
      "cell_type": "code",
      "execution_count": null,
      "metadata": {
        "colab": {
          "base_uri": "https://localhost:8080/"
        },
        "id": "ZSy25Up7Mjh_",
        "outputId": "7e3b2e4e-b6b6-4035-80a3-6c5892f2cb39"
      },
      "outputs": [
        {
          "output_type": "execute_result",
          "data": {
            "text/plain": [
              "(9000, 9)"
            ]
          },
          "metadata": {},
          "execution_count": 72
        }
      ],
      "source": [
        "df.shape\n"
      ]
    },
    {
      "cell_type": "code",
      "source": [
        "df.count()\n"
      ],
      "metadata": {
        "colab": {
          "base_uri": "https://localhost:8080/",
          "height": 366
        },
        "id": "H65Sk-d-epDK",
        "outputId": "c0ee5742-24d3-480c-e097-68a8c32f43b8"
      },
      "execution_count": null,
      "outputs": [
        {
          "output_type": "execute_result",
          "data": {
            "text/plain": [
              "MovieID        9000\n",
              "Title          9000\n",
              "Popularity     9000\n",
              "Overview       8934\n",
              "Genres         8928\n",
              "Actors         8906\n",
              "Directors      8946\n",
              "VoteAverage    9000\n",
              "ReleaseYear    8968\n",
              "dtype: int64"
            ],
            "text/html": [
              "<div>\n",
              "<style scoped>\n",
              "    .dataframe tbody tr th:only-of-type {\n",
              "        vertical-align: middle;\n",
              "    }\n",
              "\n",
              "    .dataframe tbody tr th {\n",
              "        vertical-align: top;\n",
              "    }\n",
              "\n",
              "    .dataframe thead th {\n",
              "        text-align: right;\n",
              "    }\n",
              "</style>\n",
              "<table border=\"1\" class=\"dataframe\">\n",
              "  <thead>\n",
              "    <tr style=\"text-align: right;\">\n",
              "      <th></th>\n",
              "      <th>0</th>\n",
              "    </tr>\n",
              "  </thead>\n",
              "  <tbody>\n",
              "    <tr>\n",
              "      <th>MovieID</th>\n",
              "      <td>9000</td>\n",
              "    </tr>\n",
              "    <tr>\n",
              "      <th>Title</th>\n",
              "      <td>9000</td>\n",
              "    </tr>\n",
              "    <tr>\n",
              "      <th>Popularity</th>\n",
              "      <td>9000</td>\n",
              "    </tr>\n",
              "    <tr>\n",
              "      <th>Overview</th>\n",
              "      <td>8934</td>\n",
              "    </tr>\n",
              "    <tr>\n",
              "      <th>Genres</th>\n",
              "      <td>8928</td>\n",
              "    </tr>\n",
              "    <tr>\n",
              "      <th>Actors</th>\n",
              "      <td>8906</td>\n",
              "    </tr>\n",
              "    <tr>\n",
              "      <th>Directors</th>\n",
              "      <td>8946</td>\n",
              "    </tr>\n",
              "    <tr>\n",
              "      <th>VoteAverage</th>\n",
              "      <td>9000</td>\n",
              "    </tr>\n",
              "    <tr>\n",
              "      <th>ReleaseYear</th>\n",
              "      <td>8968</td>\n",
              "    </tr>\n",
              "  </tbody>\n",
              "</table>\n",
              "</div><br><label><b>dtype:</b> int64</label>"
            ]
          },
          "metadata": {},
          "execution_count": 73
        }
      ]
    },
    {
      "cell_type": "code",
      "source": [
        "df.isnull().sum()\n",
        "df.drop_duplicates(inplace=True)"
      ],
      "metadata": {
        "id": "ozQ6Deft28rR"
      },
      "execution_count": null,
      "outputs": []
    },
    {
      "cell_type": "code",
      "source": [
        "df[['Title','ReleaseYear']].duplicated().sum()\n",
        "df.drop_duplicates(subset=['Title','ReleaseYear'],inplace=True)"
      ],
      "metadata": {
        "id": "I-eG4lLb3SJr"
      },
      "execution_count": null,
      "outputs": []
    },
    {
      "cell_type": "code",
      "source": [
        "df.count()"
      ],
      "metadata": {
        "colab": {
          "base_uri": "https://localhost:8080/",
          "height": 366
        },
        "id": "4D2URKz-N4aa",
        "outputId": "6e6851eb-f73c-4808-f237-624d040a4f27"
      },
      "execution_count": null,
      "outputs": [
        {
          "output_type": "execute_result",
          "data": {
            "text/plain": [
              "MovieID        7643\n",
              "Title          7643\n",
              "Popularity     7643\n",
              "Overview       7587\n",
              "Genres         7588\n",
              "Actors         7577\n",
              "Directors      7596\n",
              "VoteAverage    7643\n",
              "ReleaseYear    7614\n",
              "dtype: int64"
            ],
            "text/html": [
              "<div>\n",
              "<style scoped>\n",
              "    .dataframe tbody tr th:only-of-type {\n",
              "        vertical-align: middle;\n",
              "    }\n",
              "\n",
              "    .dataframe tbody tr th {\n",
              "        vertical-align: top;\n",
              "    }\n",
              "\n",
              "    .dataframe thead th {\n",
              "        text-align: right;\n",
              "    }\n",
              "</style>\n",
              "<table border=\"1\" class=\"dataframe\">\n",
              "  <thead>\n",
              "    <tr style=\"text-align: right;\">\n",
              "      <th></th>\n",
              "      <th>0</th>\n",
              "    </tr>\n",
              "  </thead>\n",
              "  <tbody>\n",
              "    <tr>\n",
              "      <th>MovieID</th>\n",
              "      <td>7643</td>\n",
              "    </tr>\n",
              "    <tr>\n",
              "      <th>Title</th>\n",
              "      <td>7643</td>\n",
              "    </tr>\n",
              "    <tr>\n",
              "      <th>Popularity</th>\n",
              "      <td>7643</td>\n",
              "    </tr>\n",
              "    <tr>\n",
              "      <th>Overview</th>\n",
              "      <td>7587</td>\n",
              "    </tr>\n",
              "    <tr>\n",
              "      <th>Genres</th>\n",
              "      <td>7588</td>\n",
              "    </tr>\n",
              "    <tr>\n",
              "      <th>Actors</th>\n",
              "      <td>7577</td>\n",
              "    </tr>\n",
              "    <tr>\n",
              "      <th>Directors</th>\n",
              "      <td>7596</td>\n",
              "    </tr>\n",
              "    <tr>\n",
              "      <th>VoteAverage</th>\n",
              "      <td>7643</td>\n",
              "    </tr>\n",
              "    <tr>\n",
              "      <th>ReleaseYear</th>\n",
              "      <td>7614</td>\n",
              "    </tr>\n",
              "  </tbody>\n",
              "</table>\n",
              "</div><br><label><b>dtype:</b> int64</label>"
            ]
          },
          "metadata": {},
          "execution_count": 76
        }
      ]
    },
    {
      "cell_type": "code",
      "source": [
        "df.fillna('',inplace=True)\n",
        "null_value=df[(df['Genres']=='') & (df['Overview']=='')].index\n",
        "df.drop(null_value,inplace=True)\n",
        "\n",
        "df.isnull().sum()"
      ],
      "metadata": {
        "colab": {
          "base_uri": "https://localhost:8080/",
          "height": 421
        },
        "id": "yTpju2yu3qIt",
        "outputId": "2282b6b1-df5f-4b26-b87e-064077bd8d93"
      },
      "execution_count": null,
      "outputs": [
        {
          "output_type": "stream",
          "name": "stderr",
          "text": [
            "<ipython-input-77-0c5c67ac2a75>:1: FutureWarning: Setting an item of incompatible dtype is deprecated and will raise an error in a future version of pandas. Value '' has dtype incompatible with float64, please explicitly cast to a compatible dtype first.\n",
            "  df.fillna('',inplace=True)\n"
          ]
        },
        {
          "output_type": "execute_result",
          "data": {
            "text/plain": [
              "MovieID        0\n",
              "Title          0\n",
              "Popularity     0\n",
              "Overview       0\n",
              "Genres         0\n",
              "Actors         0\n",
              "Directors      0\n",
              "VoteAverage    0\n",
              "ReleaseYear    0\n",
              "dtype: int64"
            ],
            "text/html": [
              "<div>\n",
              "<style scoped>\n",
              "    .dataframe tbody tr th:only-of-type {\n",
              "        vertical-align: middle;\n",
              "    }\n",
              "\n",
              "    .dataframe tbody tr th {\n",
              "        vertical-align: top;\n",
              "    }\n",
              "\n",
              "    .dataframe thead th {\n",
              "        text-align: right;\n",
              "    }\n",
              "</style>\n",
              "<table border=\"1\" class=\"dataframe\">\n",
              "  <thead>\n",
              "    <tr style=\"text-align: right;\">\n",
              "      <th></th>\n",
              "      <th>0</th>\n",
              "    </tr>\n",
              "  </thead>\n",
              "  <tbody>\n",
              "    <tr>\n",
              "      <th>MovieID</th>\n",
              "      <td>0</td>\n",
              "    </tr>\n",
              "    <tr>\n",
              "      <th>Title</th>\n",
              "      <td>0</td>\n",
              "    </tr>\n",
              "    <tr>\n",
              "      <th>Popularity</th>\n",
              "      <td>0</td>\n",
              "    </tr>\n",
              "    <tr>\n",
              "      <th>Overview</th>\n",
              "      <td>0</td>\n",
              "    </tr>\n",
              "    <tr>\n",
              "      <th>Genres</th>\n",
              "      <td>0</td>\n",
              "    </tr>\n",
              "    <tr>\n",
              "      <th>Actors</th>\n",
              "      <td>0</td>\n",
              "    </tr>\n",
              "    <tr>\n",
              "      <th>Directors</th>\n",
              "      <td>0</td>\n",
              "    </tr>\n",
              "    <tr>\n",
              "      <th>VoteAverage</th>\n",
              "      <td>0</td>\n",
              "    </tr>\n",
              "    <tr>\n",
              "      <th>ReleaseYear</th>\n",
              "      <td>0</td>\n",
              "    </tr>\n",
              "  </tbody>\n",
              "</table>\n",
              "</div><br><label><b>dtype:</b> int64</label>"
            ]
          },
          "metadata": {},
          "execution_count": 77
        }
      ]
    },
    {
      "cell_type": "code",
      "source": [
        "pop= df.sort_values('Popularity', ascending=False)\n",
        "plt.figure(figsize=(12,4))\n",
        "\n",
        "plt.barh(pop['Title'].head(6),pop['Popularity'].head(6), align='center',\n",
        "        color='skyblue')\n",
        "plt.gca().invert_yaxis()\n",
        "plt.xlabel(\"Popularity\")\n",
        "plt.title(\"Popular Movies\")"
      ],
      "metadata": {
        "colab": {
          "base_uri": "https://localhost:8080/",
          "height": 271
        },
        "id": "VnLEfsEd34Kc",
        "outputId": "016cbc58-89be-4a55-999e-d26dc1b0a418"
      },
      "execution_count": null,
      "outputs": [
        {
          "output_type": "execute_result",
          "data": {
            "text/plain": [
              "Text(0.5, 1.0, 'Popular Movies')"
            ]
          },
          "metadata": {},
          "execution_count": 78
        },
        {
          "output_type": "display_data",
          "data": {
            "text/plain": [
              "<Figure size 1200x400 with 1 Axes>"
            ],
            "image/png": "[encoded data removed]"
          },
          "metadata": {}
        }
      ]
    },
    {
      "cell_type": "code",
      "source": [
        "pop= df.sort_values('Title', ascending=False)\n",
        "import matplotlib.pyplot as plt\n",
        "plt.figure(figsize=(12,4))\n",
        "plt.barh(pop['Title'].head(6),pop['VoteAverage'].head(6), align='center',color='green')\n",
        "plt.gca().invert_yaxis()\n",
        "plt.xlabel(\"average vote count\")\n",
        "plt.title(\"vote count of few movies\")\n"
      ],
      "metadata": {
        "colab": {
          "base_uri": "https://localhost:8080/",
          "height": 1626
        },
        "id": "olfembgn4bUj",
        "outputId": "f75b50c6-d0e5-492c-eedd-f4519f84bcfb"
      },
      "execution_count": null,
      "outputs": [
        {
          "output_type": "execute_result",
          "data": {
            "text/plain": [
              "Text(0.5, 1.0, 'vote count of few movies')"
            ]
          },
          "metadata": {},
          "execution_count": 79
        },
        {
          "output_type": "stream",
          "name": "stderr",
          "text": [
            "/usr/local/lib/python3.11/dist-packages/IPython/core/events.py:89: UserWarning: Glyph 37329 (\\N{CJK UNIFIED IDEOGRAPH-91D1}) missing from font(s) DejaVu Sans.\n",
            "  func(*args, **kwargs)\n",
            "/usr/local/lib/python3.11/dist-packages/IPython/core/events.py:89: UserWarning: Glyph 38517 (\\N{CJK UNIFIED IDEOGRAPH-9675}) missing from font(s) DejaVu Sans.\n",
            "  func(*args, **kwargs)\n",
            "/usr/local/lib/python3.11/dist-packages/IPython/core/events.py:89: UserWarning: Glyph 24481 (\\N{CJK UNIFIED IDEOGRAPH-5FA1}) missing from font(s) DejaVu Sans.\n",
            "  func(*args, **kwargs)\n",
            "/usr/local/lib/python3.11/dist-packages/IPython/core/events.py:89: UserWarning: Glyph 29483 (\\N{CJK UNIFIED IDEOGRAPH-732B}) missing from font(s) DejaVu Sans.\n",
            "  func(*args, **kwargs)\n",
            "/usr/local/lib/python3.11/dist-packages/IPython/core/events.py:89: UserWarning: Glyph 29190 (\\N{CJK UNIFIED IDEOGRAPH-7206}) missing from font(s) DejaVu Sans.\n",
            "  func(*args, **kwargs)\n",
            "/usr/local/lib/python3.11/dist-packages/IPython/core/events.py:89: UserWarning: Glyph 20083 (\\N{CJK UNIFIED IDEOGRAPH-4E73}) missing from font(s) DejaVu Sans.\n",
            "  func(*args, **kwargs)\n",
            "/usr/local/lib/python3.11/dist-packages/IPython/core/events.py:89: UserWarning: Glyph 12398 (\\N{HIRAGANA LETTER NO}) missing from font(s) DejaVu Sans.\n",
            "  func(*args, **kwargs)\n",
            "/usr/local/lib/python3.11/dist-packages/IPython/core/events.py:89: UserWarning: Glyph 29477 (\\N{CJK UNIFIED IDEOGRAPH-7325}) missing from font(s) DejaVu Sans.\n",
            "  func(*args, **kwargs)\n",
            "/usr/local/lib/python3.11/dist-packages/IPython/core/events.py:89: UserWarning: Glyph 35131 (\\N{CJK UNIFIED IDEOGRAPH-893B}) missing from font(s) DejaVu Sans.\n",
            "  func(*args, **kwargs)\n",
            "/usr/local/lib/python3.11/dist-packages/IPython/core/events.py:89: UserWarning: Glyph 30000 (\\N{CJK UNIFIED IDEOGRAPH-7530}) missing from font(s) DejaVu Sans.\n",
            "  func(*args, **kwargs)\n",
            "/usr/local/lib/python3.11/dist-packages/IPython/core/events.py:89: UserWarning: Glyph 20013 (\\N{CJK UNIFIED IDEOGRAPH-4E2D}) missing from font(s) DejaVu Sans.\n",
            "  func(*args, **kwargs)\n",
            "/usr/local/lib/python3.11/dist-packages/IPython/core/events.py:89: UserWarning: Glyph 30643 (\\N{CJK UNIFIED IDEOGRAPH-77B3}) missing from font(s) DejaVu Sans.\n",
            "  func(*args, **kwargs)\n",
            "/usr/local/lib/python3.11/dist-packages/IPython/core/events.py:89: UserWarning: Glyph 28165 (\\N{CJK UNIFIED IDEOGRAPH-6E05}) missing from font(s) DejaVu Sans.\n",
            "  func(*args, **kwargs)\n",
            "/usr/local/lib/python3.11/dist-packages/IPython/core/events.py:89: UserWarning: Glyph 23467 (\\N{CJK UNIFIED IDEOGRAPH-5BAB}) missing from font(s) DejaVu Sans.\n",
            "  func(*args, **kwargs)\n",
            "/usr/local/lib/python3.11/dist-packages/IPython/core/events.py:89: UserWarning: Glyph 24615 (\\N{CJK UNIFIED IDEOGRAPH-6027}) missing from font(s) DejaVu Sans.\n",
            "  func(*args, **kwargs)\n",
            "/usr/local/lib/python3.11/dist-packages/IPython/core/events.py:89: UserWarning: Glyph 21490 (\\N{CJK UNIFIED IDEOGRAPH-53F2}) missing from font(s) DejaVu Sans.\n",
            "  func(*args, **kwargs)\n",
            "/usr/local/lib/python3.11/dist-packages/IPython/core/events.py:89: UserWarning: Glyph 20043 (\\N{CJK UNIFIED IDEOGRAPH-4E4B}) missing from font(s) DejaVu Sans.\n",
            "  func(*args, **kwargs)\n",
            "/usr/local/lib/python3.11/dist-packages/IPython/core/events.py:89: UserWarning: Glyph 26080 (\\N{CJK UNIFIED IDEOGRAPH-65E0}) missing from font(s) DejaVu Sans.\n",
            "  func(*args, **kwargs)\n",
            "/usr/local/lib/python3.11/dist-packages/IPython/core/events.py:89: UserWarning: Glyph 33021 (\\N{CJK UNIFIED IDEOGRAPH-80FD}) missing from font(s) DejaVu Sans.\n",
            "  func(*args, **kwargs)\n",
            "/usr/local/lib/python3.11/dist-packages/IPython/core/events.py:89: UserWarning: Glyph 30343 (\\N{CJK UNIFIED IDEOGRAPH-7687}) missing from font(s) DejaVu Sans.\n",
            "  func(*args, **kwargs)\n",
            "/usr/local/lib/python3.11/dist-packages/IPython/core/events.py:89: UserWarning: Glyph 24093 (\\N{CJK UNIFIED IDEOGRAPH-5E1D}) missing from font(s) DejaVu Sans.\n",
            "  func(*args, **kwargs)\n",
            "/usr/local/lib/python3.11/dist-packages/IPython/core/pylabtools.py:151: UserWarning: Glyph 37329 (\\N{CJK UNIFIED IDEOGRAPH-91D1}) missing from font(s) DejaVu Sans.\n",
            "  fig.canvas.print_figure(bytes_io, **kw)\n",
            "/usr/local/lib/python3.11/dist-packages/IPython/core/pylabtools.py:151: UserWarning: Glyph 38517 (\\N{CJK UNIFIED IDEOGRAPH-9675}) missing from font(s) DejaVu Sans.\n",
            "  fig.canvas.print_figure(bytes_io, **kw)\n",
            "/usr/local/lib/python3.11/dist-packages/IPython/core/pylabtools.py:151: UserWarning: Glyph 24481 (\\N{CJK UNIFIED IDEOGRAPH-5FA1}) missing from font(s) DejaVu Sans.\n",
            "  fig.canvas.print_figure(bytes_io, **kw)\n",
            "/usr/local/lib/python3.11/dist-packages/IPython/core/pylabtools.py:151: UserWarning: Glyph 29483 (\\N{CJK UNIFIED IDEOGRAPH-732B}) missing from font(s) DejaVu Sans.\n",
            "  fig.canvas.print_figure(bytes_io, **kw)\n",
            "/usr/local/lib/python3.11/dist-packages/IPython/core/pylabtools.py:151: UserWarning: Glyph 29190 (\\N{CJK UNIFIED IDEOGRAPH-7206}) missing from font(s) DejaVu Sans.\n",
            "  fig.canvas.print_figure(bytes_io, **kw)\n",
            "/usr/local/lib/python3.11/dist-packages/IPython/core/pylabtools.py:151: UserWarning: Glyph 20083 (\\N{CJK UNIFIED IDEOGRAPH-4E73}) missing from font(s) DejaVu Sans.\n",
            "  fig.canvas.print_figure(bytes_io, **kw)\n",
            "/usr/local/lib/python3.11/dist-packages/IPython/core/pylabtools.py:151: UserWarning: Glyph 12398 (\\N{HIRAGANA LETTER NO}) missing from font(s) DejaVu Sans.\n",
            "  fig.canvas.print_figure(bytes_io, **kw)\n",
            "/usr/local/lib/python3.11/dist-packages/IPython/core/pylabtools.py:151: UserWarning: Glyph 29477 (\\N{CJK UNIFIED IDEOGRAPH-7325}) missing from font(s) DejaVu Sans.\n",
            "  fig.canvas.print_figure(bytes_io, **kw)\n",
            "/usr/local/lib/python3.11/dist-packages/IPython/core/pylabtools.py:151: UserWarning: Glyph 35131 (\\N{CJK UNIFIED IDEOGRAPH-893B}) missing from font(s) DejaVu Sans.\n",
            "  fig.canvas.print_figure(bytes_io, **kw)\n",
            "/usr/local/lib/python3.11/dist-packages/IPython/core/pylabtools.py:151: UserWarning: Glyph 30000 (\\N{CJK UNIFIED IDEOGRAPH-7530}) missing from font(s) DejaVu Sans.\n",
            "  fig.canvas.print_figure(bytes_io, **kw)\n",
            "/usr/local/lib/python3.11/dist-packages/IPython/core/pylabtools.py:151: UserWarning: Glyph 20013 (\\N{CJK UNIFIED IDEOGRAPH-4E2D}) missing from font(s) DejaVu Sans.\n",
            "  fig.canvas.print_figure(bytes_io, **kw)\n",
            "/usr/local/lib/python3.11/dist-packages/IPython/core/pylabtools.py:151: UserWarning: Glyph 30643 (\\N{CJK UNIFIED IDEOGRAPH-77B3}) missing from font(s) DejaVu Sans.\n",
            "  fig.canvas.print_figure(bytes_io, **kw)\n",
            "/usr/local/lib/python3.11/dist-packages/IPython/core/pylabtools.py:151: UserWarning: Glyph 28165 (\\N{CJK UNIFIED IDEOGRAPH-6E05}) missing from font(s) DejaVu Sans.\n",
            "  fig.canvas.print_figure(bytes_io, **kw)\n",
            "/usr/local/lib/python3.11/dist-packages/IPython/core/pylabtools.py:151: UserWarning: Glyph 23467 (\\N{CJK UNIFIED IDEOGRAPH-5BAB}) missing from font(s) DejaVu Sans.\n",
            "  fig.canvas.print_figure(bytes_io, **kw)\n",
            "/usr/local/lib/python3.11/dist-packages/IPython/core/pylabtools.py:151: UserWarning: Glyph 24615 (\\N{CJK UNIFIED IDEOGRAPH-6027}) missing from font(s) DejaVu Sans.\n",
            "  fig.canvas.print_figure(bytes_io, **kw)\n",
            "/usr/local/lib/python3.11/dist-packages/IPython/core/pylabtools.py:151: UserWarning: Glyph 21490 (\\N{CJK UNIFIED IDEOGRAPH-53F2}) missing from font(s) DejaVu Sans.\n",
            "  fig.canvas.print_figure(bytes_io, **kw)\n",
            "/usr/local/lib/python3.11/dist-packages/IPython/core/pylabtools.py:151: UserWarning: Glyph 20043 (\\N{CJK UNIFIED IDEOGRAPH-4E4B}) missing from font(s) DejaVu Sans.\n",
            "  fig.canvas.print_figure(bytes_io, **kw)\n",
            "/usr/local/lib/python3.11/dist-packages/IPython/core/pylabtools.py:151: UserWarning: Glyph 26080 (\\N{CJK UNIFIED IDEOGRAPH-65E0}) missing from font(s) DejaVu Sans.\n",
            "  fig.canvas.print_figure(bytes_io, **kw)\n",
            "/usr/local/lib/python3.11/dist-packages/IPython/core/pylabtools.py:151: UserWarning: Glyph 33021 (\\N{CJK UNIFIED IDEOGRAPH-80FD}) missing from font(s) DejaVu Sans.\n",
            "  fig.canvas.print_figure(bytes_io, **kw)\n",
            "/usr/local/lib/python3.11/dist-packages/IPython/core/pylabtools.py:151: UserWarning: Glyph 30343 (\\N{CJK UNIFIED IDEOGRAPH-7687}) missing from font(s) DejaVu Sans.\n",
            "  fig.canvas.print_figure(bytes_io, **kw)\n",
            "/usr/local/lib/python3.11/dist-packages/IPython/core/pylabtools.py:151: UserWarning: Glyph 24093 (\\N{CJK UNIFIED IDEOGRAPH-5E1D}) missing from font(s) DejaVu Sans.\n",
            "  fig.canvas.print_figure(bytes_io, **kw)\n"
          ]
        },
        {
          "output_type": "display_data",
          "data": {
            "text/plain": [
              "<Figure size 1200x400 with 1 Axes>"
            ],
            "image/png": "[encoded data removed]"
          },
          "metadata": {}
        }
      ]
    },
    {
      "cell_type": "code",
      "source": [
        "vote_mean=df['VoteAverage'].mean() #calculating mean value of the voting for a particular movie\n",
        "vote_percentile=df['Popularity'].quantile(0.9) # calculating the percentile of vote obtained\n",
        "vote_mean,vote_percentile\n"
      ],
      "metadata": {
        "colab": {
          "base_uri": "https://localhost:8080/"
        },
        "id": "w8teBWc041Nt",
        "outputId": "5e39221c-c5e6-4494-84f4-07daec949264"
      },
      "execution_count": null,
      "outputs": [
        {
          "output_type": "execute_result",
          "data": {
            "text/plain": [
              "(np.float64(6.340238651272632), np.float64(70.15470000000002))"
            ]
          },
          "metadata": {},
          "execution_count": 80
        }
      ]
    },
    {
      "cell_type": "code",
      "source": [
        "def weighted_rating(x, vote_mean, vote_percentile):\n",
        "    R = x['VoteAverage']\n",
        "    v = x['Popularity']\n",
        "    m = vote_percentile\n",
        "    C = vote_mean\n",
        "    return round((v / (v + m) * R) + (m / (v + m) * C), 2)\n",
        "\n",
        "vote_mean = df['VoteAverage'].mean()\n",
        "vote_percentile = df['Popularity'].quantile(0.90)\n",
        "\n",
        "df['WeightedScore'] = df.apply(lambda x: weighted_rating(x, vote_mean, vote_percentile), axis=1)\n",
        "top_weighted = df.sort_values('WeightedScore', ascending=False).head(10)\n"
      ],
      "metadata": {
        "id": "6m7LdQkO5IUk"
      },
      "execution_count": null,
      "outputs": []
    },
    {
      "cell_type": "code",
      "source": [
        "df = df[df.Popularity>=30].reset_index()\n",
        "df.shape"
      ],
      "metadata": {
        "colab": {
          "base_uri": "https://localhost:8080/"
        },
        "id": "d7DzMAUv6dbY",
        "outputId": "ad3733d5-63e2-4ac7-e653-1ac4870c8eac"
      },
      "execution_count": null,
      "outputs": [
        {
          "output_type": "execute_result",
          "data": {
            "text/plain": [
              "(3156, 11)"
            ]
          },
          "metadata": {},
          "execution_count": 82
        }
      ]
    },
    {
      "cell_type": "code",
      "source": [
        "df['score'] = df.apply(lambda x: weighted_rating(x, vote_mean, vote_percentile), axis=1)\n"
      ],
      "metadata": {
        "id": "RhjKSNpz6tF4"
      },
      "execution_count": null,
      "outputs": []
    },
    {
      "cell_type": "code",
      "source": [
        "df['Genres']=df['Genres'].apply(lambda i:' '.join(i.split('-')))\n",
        "df['overview']=df['Overview'].apply(lambda i:' '.join(i.split('-')))\n",
        "df['Actors']=df['Actors'].apply(lambda i:' '.join(i.split('-')[:5]))\n",
        "df['Directors']=df['Directors'].apply(lambda i:' '.join(i.split('-')))"
      ],
      "metadata": {
        "id": "F0tE4h2A7hdg"
      },
      "execution_count": null,
      "outputs": []
    },
    {
      "cell_type": "code",
      "source": [
        "df['features']=df['Genres']+' '+ df['Overview']+' ' + df['Actors']+' '+df['Directors']\n",
        "df['features'][3]"
      ],
      "metadata": {
        "colab": {
          "base_uri": "https://localhost:8080/",
          "height": 227
        },
        "id": "iHE9_PI18QPZ",
        "outputId": "29a519c0-b212-4a94-8821-15f3b5846586"
      },
      "execution_count": null,
      "outputs": [
        {
          "output_type": "execute_result",
          "data": {
            "text/plain": [
              "\"Action, Adventure, Drama, Thriller As storm season intensifies, the paths of former storm chaser Kate Carter and reckless social-media superstar Tyler Owens collide when terrifying phenomena never seen before are unleashed. The pair and their competing teams find themselves squarely in the paths of multiple storm systems converging over central Oklahoma in the fight of their lives. Daisy Edgar Jones, Glen Powell, Anthony Ramos, Brandon Perea, Maura Tierney, Harry Hadden Paton, Sasha Lane, Daryl McCormack, Kiernan Shipka, Nik Dodani, David Corenswet, Tunde Adebimpe, Katy O'Brian, David Born, Paul Scheer, Laura Poe, Austin Bullock, Stephen Oyoung, Alex Kingi, Chris Adrien, Samantha Ireland, Aila Grey, Jeff Swearingen, James Paxton, Lily Smith, Randy Ballard, Ashley Moss, Mike Morgan, Emily Sutton, Julie Oliver Touchstone, Austin Brooks, Darryl Cox, Douglas Seok, Ben Snow, Ashley Jay Sandberg, Clay Edward Jones, Victoria Angelina Cruz, Ben Scott, Elizabeth Ann Townsend, Capri O'Neill, Livia Chung, Chris Zurcher, Maxim Helmerich, Ken Pomeroy, James McAlister, Damien Lodes, Jennifer Rader, Shaun Maher, Tyler Kijac, Daniel Fortman Lee Isaac Chung\""
            ],
            "application/vnd.google.colaboratory.intrinsic+json": {
              "type": "string"
            }
          },
          "metadata": {},
          "execution_count": 85
        }
      ]
    },
    {
      "cell_type": "code",
      "source": [
        "# remove noise\n",
        "df['features']=df['features'].str.replace('[^\\w\\s]','')\n",
        "df['features'][3]"
      ],
      "metadata": {
        "colab": {
          "base_uri": "https://localhost:8080/",
          "height": 227
        },
        "id": "MtU0qo1n85Z6",
        "outputId": "88206612-2874-4022-fbe0-2766801a75d6"
      },
      "execution_count": null,
      "outputs": [
        {
          "output_type": "execute_result",
          "data": {
            "text/plain": [
              "\"Action, Adventure, Drama, Thriller As storm season intensifies, the paths of former storm chaser Kate Carter and reckless social-media superstar Tyler Owens collide when terrifying phenomena never seen before are unleashed. The pair and their competing teams find themselves squarely in the paths of multiple storm systems converging over central Oklahoma in the fight of their lives. Daisy Edgar Jones, Glen Powell, Anthony Ramos, Brandon Perea, Maura Tierney, Harry Hadden Paton, Sasha Lane, Daryl McCormack, Kiernan Shipka, Nik Dodani, David Corenswet, Tunde Adebimpe, Katy O'Brian, David Born, Paul Scheer, Laura Poe, Austin Bullock, Stephen Oyoung, Alex Kingi, Chris Adrien, Samantha Ireland, Aila Grey, Jeff Swearingen, James Paxton, Lily Smith, Randy Ballard, Ashley Moss, Mike Morgan, Emily Sutton, Julie Oliver Touchstone, Austin Brooks, Darryl Cox, Douglas Seok, Ben Snow, Ashley Jay Sandberg, Clay Edward Jones, Victoria Angelina Cruz, Ben Scott, Elizabeth Ann Townsend, Capri O'Neill, Livia Chung, Chris Zurcher, Maxim Helmerich, Ken Pomeroy, James McAlister, Damien Lodes, Jennifer Rader, Shaun Maher, Tyler Kijac, Daniel Fortman Lee Isaac Chung\""
            ],
            "application/vnd.google.colaboratory.intrinsic+json": {
              "type": "string"
            }
          },
          "metadata": {},
          "execution_count": 86
        }
      ]
    },
    {
      "cell_type": "code",
      "execution_count": null,
      "metadata": {
        "colab": {
          "base_uri": "https://localhost:8080/"
        },
        "id": "j9dVaaeMM7x2",
        "outputId": "83f62181-9df0-41c8-a7d2-3c69c9f5fa27"
      },
      "outputs": [
        {
          "output_type": "stream",
          "name": "stdout",
          "text": [
            "<Compressed Sparse Row sparse matrix of dtype 'float64'\n",
            "\twith 316855 stored elements and shape (3156, 61633)>\n",
            "  Coords\tValues\n",
            "  (0, 588)\t0.027296146371196723\n",
            "  (0, 11237)\t0.03016181423255393\n",
            "  (0, 48832)\t0.038806004053470955\n",
            "  (0, 18501)\t0.03889072565270542\n",
            "  (0, 32416)\t0.11231763586486553\n",
            "  (0, 58579)\t0.14934638109276022\n",
            "  (0, 59542)\t0.045168136177587824\n",
            "  (0, 55462)\t0.11231763586486553\n",
            "  (0, 3790)\t0.06278214915303193\n",
            "  (0, 10693)\t0.10300982752385825\n",
            "  (0, 32154)\t0.0408712989684368\n",
            "  (0, 13299)\t0.06733402187985214\n",
            "  (0, 37614)\t0.11231763586486553\n",
            "  (0, 18851)\t0.11231763586486553\n",
            "  (0, 36256)\t0.09212038983708053\n",
            "  (0, 13314)\t0.09756510868046939\n",
            "  (0, 24433)\t0.11231763586486553\n",
            "  (0, 17748)\t0.0731368507171832\n",
            "  (0, 17570)\t0.10687291702147668\n",
            "  (0, 55050)\t0.07081010104876169\n",
            "  (0, 45601)\t0.07952099650022214\n",
            "  (0, 53046)\t0.09756510868046939\n",
            "  (0, 45600)\t0.09212038983708053\n",
            "  (0, 59812)\t0.11231763586486553\n",
            "  (0, 47347)\t0.08364715880253767\n",
            "  :\t:\n",
            "  (3155, 20335)\t0.07792452637428905\n",
            "  (3155, 40926)\t0.08566509122957014\n",
            "  (3155, 18597)\t0.0888777159101117\n",
            "  (3155, 6319)\t0.0888777159101117\n",
            "  (3155, 58799)\t0.0888777159101117\n",
            "  (3155, 50624)\t0.08317318593235742\n",
            "  (3155, 2133)\t0.08317318593235742\n",
            "  (3155, 8542)\t0.0888777159101117\n",
            "  (3155, 13514)\t0.0888777159101117\n",
            "  (3155, 4987)\t0.08566509122957014\n",
            "  (3155, 15972)\t0.08566509122957014\n",
            "  (3155, 23012)\t0.0934056560848512\n",
            "  (3155, 14651)\t0.0934056560848512\n",
            "  (3155, 42313)\t0.0934056560848512\n",
            "  (3155, 52217)\t0.0934056560848512\n",
            "  (3155, 3005)\t0.0934056560848512\n",
            "  (3155, 51330)\t0.0934056560848512\n",
            "  (3155, 8596)\t0.0934056560848512\n",
            "  (3155, 23428)\t0.0934056560848512\n",
            "  (3155, 46290)\t0.0934056560848512\n",
            "  (3155, 39141)\t0.0934056560848512\n",
            "  (3155, 41665)\t0.0934056560848512\n",
            "  (3155, 35882)\t0.0934056560848512\n",
            "  (3155, 47127)\t0.0934056560848512\n",
            "  (3155, 19484)\t0.0934056560848512\n"
          ]
        }
      ],
      "source": [
        "tfidf=TfidfVectorizer(stop_words='english')\n",
        "tfidf_vector=tfidf.fit_transform(df['features'])\n",
        "\n",
        "print(tfidf_vector)"
      ]
    },
    {
      "cell_type": "code",
      "execution_count": null,
      "metadata": {
        "colab": {
          "base_uri": "https://localhost:8080/"
        },
        "id": "Run7EE7NNzfN",
        "outputId": "6abec4b5-5bfb-4454-df9c-503a6802bee3"
      },
      "outputs": [
        {
          "output_type": "execute_result",
          "data": {
            "text/plain": [
              "(3156, 61633)"
            ]
          },
          "metadata": {},
          "execution_count": 88
        }
      ],
      "source": [
        "tfidf_vector.shape"
      ]
    },
    {
      "cell_type": "code",
      "execution_count": null,
      "metadata": {
        "colab": {
          "base_uri": "https://localhost:8080/"
        },
        "id": "BpyJ7bmfOMot",
        "outputId": "83f8f2d0-7f1f-4983-a8f1-43889b5ecd5d"
      },
      "outputs": [
        {
          "output_type": "stream",
          "name": "stdout",
          "text": [
            "Requirement already satisfied: surprise in /usr/local/lib/python3.11/dist-packages (0.1)\n",
            "Requirement already satisfied: scikit-surprise in /usr/local/lib/python3.11/dist-packages (from surprise) (1.1.4)\n",
            "Requirement already satisfied: joblib>=1.2.0 in /usr/local/lib/python3.11/dist-packages (from scikit-surprise->surprise) (1.4.2)\n",
            "Requirement already satisfied: numpy>=1.19.5 in /usr/local/lib/python3.11/dist-packages (from scikit-surprise->surprise) (2.0.2)\n",
            "Requirement already satisfied: scipy>=1.6.0 in /usr/local/lib/python3.11/dist-packages (from scikit-surprise->surprise) (1.14.1)\n"
          ]
        }
      ],
      "source": [
        "!pip install surprise"
      ]
    },
    {
      "cell_type": "code",
      "source": [
        "from sklearn.metrics.pairwise import cosine_similarity"
      ],
      "metadata": {
        "id": "EdGcpjU1_LcY"
      },
      "execution_count": null,
      "outputs": []
    },
    {
      "cell_type": "code",
      "source": [
        "cosine_sim = cosine_similarity(tfidf_vector, tfidf_vector)\n"
      ],
      "metadata": {
        "id": "wQ6RzpPd-eGO"
      },
      "execution_count": null,
      "outputs": []
    },
    {
      "cell_type": "code",
      "source": [
        "for col in df.select_dtypes(include='object'):\n",
        "    df[col].fillna('', inplace=True)\n",
        "for col in df.select_dtypes(include='number'):\n",
        "    df[col].fillna(0, inplace=True)"
      ],
      "metadata": {
        "colab": {
          "base_uri": "https://localhost:8080/"
        },
        "id": "2yycsv5fD9e9",
        "outputId": "68b2c2e7-2bc1-48e4-bb7a-5fe40318781e"
      },
      "execution_count": null,
      "outputs": [
        {
          "output_type": "stream",
          "name": "stderr",
          "text": [
            "<ipython-input-92-f0a68b5e9e89>:2: FutureWarning: A value is trying to be set on a copy of a DataFrame or Series through chained assignment using an inplace method.\n",
            "The behavior will change in pandas 3.0. This inplace method will never work because the intermediate object on which we are setting values always behaves as a copy.\n",
            "\n",
            "For example, when doing 'df[col].method(value, inplace=True)', try using 'df.method({col: value}, inplace=True)' or df[col] = df[col].method(value) instead, to perform the operation inplace on the original object.\n",
            "\n",
            "\n",
            "  df[col].fillna('', inplace=True)\n",
            "<ipython-input-92-f0a68b5e9e89>:4: FutureWarning: A value is trying to be set on a copy of a DataFrame or Series through chained assignment using an inplace method.\n",
            "The behavior will change in pandas 3.0. This inplace method will never work because the intermediate object on which we are setting values always behaves as a copy.\n",
            "\n",
            "For example, when doing 'df[col].method(value, inplace=True)', try using 'df.method({col: value}, inplace=True)' or df[col] = df[col].method(value) instead, to perform the operation inplace on the original object.\n",
            "\n",
            "\n",
            "  df[col].fillna(0, inplace=True)\n"
          ]
        }
      ]
    },
    {
      "cell_type": "code",
      "execution_count": null,
      "metadata": {
        "colab": {
          "base_uri": "https://localhost:8080/"
        },
        "id": "8J_N-mC3ORLK",
        "outputId": "fd11dac0-c0f3-4be5-e5e0-e74ee566df6b"
      },
      "outputs": [
        {
          "output_type": "stream",
          "name": "stderr",
          "text": [
            "<ipython-input-93-9138192fa59a>:8: FutureWarning: Setting an item of incompatible dtype is deprecated and will raise an error in a future version of pandas. Value '' has dtype incompatible with float64, please explicitly cast to a compatible dtype first.\n",
            "  df.fillna('', inplace=True)\n"
          ]
        }
      ],
      "source": [
        "import pandas as pd\n",
        "from sklearn.feature_extraction.text import TfidfVectorizer\n",
        "from sklearn.metrics.pairwise import linear_kernel\n",
        "from functools import lru_cache\n",
        "\n",
        "# Step 1: Load and Preprocess\n",
        "df = pd.read_csv(\"/content/movies2024.csv\")\n",
        "df.fillna('', inplace=True)\n",
        "df['features'] = df['Title'] + ' ' + df['Genres'] + ' ' + df['Overview'] + ' ' + df['Actors'] + ' ' + df['Directors']\n",
        "\n",
        "\n",
        "# Step 2: Vectorize using TF-IDF\n",
        "tfidf_vectorizer = TfidfVectorizer(stop_words='english')\n",
        "tfidf_vector = tfidf_vectorizer.fit_transform(df['features'])\n",
        "\n",
        "# Step 3: Hybrid Recommendation Function\n",
        "@lru_cache(maxsize=None)\n",
        "def hybrid_recommendations(title, n=5):\n",
        "    title = title.lower()\n",
        "    if title not in df['Title'].str.lower().values:\n",
        "        return [\"Movie not found.\"]\n",
        "\n",
        "    movie_index = df[df['Title'].str.lower() == title].index[0]\n",
        "\n",
        "    # Content-based filtering\n",
        "    content_scores = list(enumerate(linear_kernel(tfidf_vector, tfidf_vector[movie_index])))\n",
        "    content_scores = sorted(content_scores, key=lambda x: x[1], reverse=True)\n",
        "    content_based_rec = [df['Title'].iloc[idx] for idx, _ in content_scores[1:n+1]]\n",
        "\n",
        "    # Popularity-based recommendation (simulate collaborative filtering)\n",
        "    popular_movies = df.sort_values(['VoteAverage', 'Popularity'], ascending=False)\n",
        "    popular_rec = popular_movies[~popular_movies['Title'].isin(content_based_rec + [df['Title'].iloc[movie_index]])]\n",
        "    popular_rec = popular_rec['Title'].head(n).tolist()\n",
        "\n",
        "    # Combine and return\n",
        "    return content_based_rec + popular_rec\n"
      ]
    },
    {
      "cell_type": "code",
      "execution_count": null,
      "metadata": {
        "colab": {
          "base_uri": "https://localhost:8080/"
        },
        "id": "B8C1-x_DOYd5",
        "outputId": "3b118809-95ac-4f11-f064-972dc214243d"
      },
      "outputs": [
        {
          "output_type": "stream",
          "name": "stdout",
          "text": [
            " Hybrid Recommendations:\n",
            "1. Five Feet Apart\n",
            "2. Five Feet Apart\n",
            "3. Clouds\n",
            "4. Coherence\n",
            "5. Ghosts of Girlfriends Past\n",
            "6. Crayon Shin-chan the Movie: Our Dinosaur Diary\n",
            "7. Salome\n",
            "8. Love Is in the Green Wind\n",
            "9. The Glassworker\n",
            "10. The Supremes at Earl's All-You-Can-Eat\n"
          ]
        }
      ],
      "source": [
        "movie_title = \"It Ends with Us\"\n",
        "recommendations = hybrid_recommendations(movie_title, n=5)\n",
        "\n",
        "print(\" Hybrid Recommendations:\")\n",
        "for idx, movie in enumerate(recommendations, 1):\n",
        "    print(f\"{idx}. {movie}\")\n"
      ]
    },
    {
      "cell_type": "code",
      "execution_count": null,
      "metadata": {
        "id": "6N3bx3OBPeHE",
        "colab": {
          "base_uri": "https://localhost:8080/",
          "height": 418,
          "referenced_widgets": [
            "b11d5261a76b48d396d9fd619f7d9a58",
            "6a7f75ef634a4ebc9ce9f212fbb14751",
            "3ba6250961794de98376afae9b8ce64f",
            "7c5c680d124f411086158a9db5bf9779",
            "7f4cda3a41b24013970d6369870de871",
            "5c69561e8b44459c985262886c24e881",
            "6730c6910f6d43788cc26124965f0b96",
            "e3d5d682b784425b995b2a0fe4ab701f",
            "e59fcbd758604fb28d8652a3ecccea13",
            "142abf22b6da462f8a465778e9d3272f",
            "cb44e5b401de4dbc923e5437458cc642",
            "c2886a6e1a6a40b1973cf16c88ed8032",
            "419460184838477dbd7b86f193f09bf3",
            "ffa71fb6f24b42c681d083f9ccf8858b"
          ]
        },
        "outputId": "e82d93ff-d7ec-4827-aa3e-963f5d3c2015"
      },
      "outputs": [
        {
          "output_type": "display_data",
          "data": {
            "text/plain": [
              "HTML(value='<h2>🎥 Welcome to the Movie Recommender!</h2>')"
            ],
            "application/vnd.jupyter.widget-view+json": {
              "version_major": 2,
              "version_minor": 0,
              "model_id": "b11d5261a76b48d396d9fd619f7d9a58"
            }
          },
          "metadata": {}
        },
        {
          "output_type": "display_data",
          "data": {
            "text/plain": [
              "HTML(value='<p>Click below to get started with a random movie and its recommendations.</p>')"
            ],
            "application/vnd.jupyter.widget-view+json": {
              "version_major": 2,
              "version_minor": 0,
              "model_id": "7c5c680d124f411086158a9db5bf9779"
            }
          },
          "metadata": {}
        },
        {
          "output_type": "display_data",
          "data": {
            "text/plain": [
              "Button(description='🎲 Pick Random Movie', style=ButtonStyle())"
            ],
            "application/vnd.jupyter.widget-view+json": {
              "version_major": 2,
              "version_minor": 0,
              "model_id": "6730c6910f6d43788cc26124965f0b96"
            }
          },
          "metadata": {}
        },
        {
          "output_type": "display_data",
          "data": {
            "text/plain": [
              "Output()"
            ],
            "application/vnd.jupyter.widget-view+json": {
              "version_major": 2,
              "version_minor": 0,
              "model_id": "142abf22b6da462f8a465778e9d3272f"
            }
          },
          "metadata": {}
        },
        {
          "output_type": "display_data",
          "data": {
            "text/plain": [
              "Button(description='🎯 Get Recommendations', style=ButtonStyle())"
            ],
            "application/vnd.jupyter.widget-view+json": {
              "version_major": 2,
              "version_minor": 0,
              "model_id": "c2886a6e1a6a40b1973cf16c88ed8032"
            }
          },
          "metadata": {}
        }
      ],
      "source": [
        "# Global variable to hold the selected random movie\n",
        "random_movie = \"\"\n",
        "\n",
        "# Output widget to show recommendations\n",
        "recommendations_output = widgets.Output()\n",
        "\n",
        "def display_recommendations(btn):\n",
        "    global random_movie\n",
        "    if not random_movie:\n",
        "        return\n",
        "\n",
        "    n_recommendations = 6\n",
        "    hybrid_rec = hybrid_recommendations(random_movie, n=n_recommendations)\n",
        "\n",
        "    recommendations_output.clear_output()\n",
        "    with recommendations_output:\n",
        "        print(f\"🍿 Recommendations for: {random_movie}\\n\")\n",
        "        for idx, movie in enumerate(hybrid_rec, start=1):\n",
        "            print(f\"{idx}. {movie}\")\n",
        "\n",
        "def random_movie_button_click(btn):\n",
        "    global random_movie\n",
        "    movie_titles = df['Title'].dropna().unique()\n",
        "    random_movie = np.random.choice(movie_titles)\n",
        "\n",
        "    recommendations_output.clear_output()\n",
        "    with recommendations_output:\n",
        "        print(f\"🎬 Selected Random Movie:\\n{random_movie}\")\n",
        "\n",
        "# Buttons\n",
        "random_movie_button = widgets.Button(description=\"🎲 Pick Random Movie\")\n",
        "recommend_button = widgets.Button(description=\"🎯 Get Recommendations\")\n",
        "\n",
        "# Event bindings\n",
        "random_movie_button.on_click(random_movie_button_click)\n",
        "recommend_button.on_click(display_recommendations)\n",
        "\n",
        "# UI Display\n",
        "intro_text = widgets.HTML(\"<h2>🎥 Welcome to the Movie Recommender!</h2>\")\n",
        "random_movie_text = widgets.HTML(\"<p>Click below to get started with a random movie and its recommendations.</p>\")\n",
        "\n",
        "# Display the whole interactive layout\n",
        "display(intro_text, random_movie_text, random_movie_button, recommendations_output, recommend_button)\n"
      ]
    },
    {
      "cell_type": "code",
      "source": [],
      "metadata": {
        "id": "_fn2ConyDUIX"
      },
      "execution_count": null,
      "outputs": []
    }
  ],
  "metadata": {
    "colab": {
      "provenance": [],
      "include_colab_link": true
    },
    "kernelspec": {
      "display_name": "Python 3",
      "name": "python3"
    },
    "language_info": {
      "name": "python"
    },
    "widgets": {
      "application/vnd.jupyter.widget-state+json": {
        "b11d5261a76b48d396d9fd619f7d9a58": {
          "model_module": "@jupyter-widgets/controls",
          "model_name": "HTMLModel",
          "model_module_version": "1.5.0",
          "state": {
            "_dom_classes": [],
            "_model_module": "@jupyter-widgets/controls",
            "_model_module_version": "1.5.0",
            "_model_name": "HTMLModel",
            "_view_count": null,
            "_view_module": "@jupyter-widgets/controls",
            "_view_module_version": "1.5.0",
            "_view_name": "HTMLView",
            "description": "",
            "description_tooltip": null,
            "layout": "IPY_MODEL_6a7f75ef634a4ebc9ce9f212fbb14751",
            "placeholder": "​",
            "style": "IPY_MODEL_3ba6250961794de98376afae9b8ce64f",
            "value": "<h2>🎥 Welcome to the Movie Recommender!</h2>"
          }
        },
        "6a7f75ef634a4ebc9ce9f212fbb14751": {
          "model_module": "@jupyter-widgets/base",
          "model_name": "LayoutModel",
          "model_module_version": "1.2.0",
          "state": {
            "_model_module": "@jupyter-widgets/base",
            "_model_module_version": "1.2.0",
            "_model_name": "LayoutModel",
            "_view_count": null,
            "_view_module": "@jupyter-widgets/base",
            "_view_module_version": "1.2.0",
            "_view_name": "LayoutView",
            "align_content": null,
            "align_items": null,
            "align_self": null,
            "border": null,
            "bottom": null,
            "display": null,
            "flex": null,
            "flex_flow": null,
            "grid_area": null,
            "grid_auto_columns": null,
            "grid_auto_flow": null,
            "grid_auto_rows": null,
            "grid_column": null,
            "grid_gap": null,
            "grid_row": null,
            "grid_template_areas": null,
            "grid_template_columns": null,
            "grid_template_rows": null,
            "height": null,
            "justify_content": null,
            "justify_items": null,
            "left": null,
            "margin": null,
            "max_height": null,
            "max_width": null,
            "min_height": null,
            "min_width": null,
            "object_fit": null,
            "object_position": null,
            "order": null,
            "overflow": null,
            "overflow_x": null,
            "overflow_y": null,
            "padding": null,
            "right": null,
            "top": null,
            "visibility": null,
            "width": null
          }
        },
        "3ba6250961794de98376afae9b8ce64f": {
          "model_module": "@jupyter-widgets/controls",
          "model_name": "DescriptionStyleModel",
          "model_module_version": "1.5.0",
          "state": {
            "_model_module": "@jupyter-widgets/controls",
            "_model_module_version": "1.5.0",
            "_model_name": "DescriptionStyleModel",
            "_view_count": null,
            "_view_module": "@jupyter-widgets/base",
            "_view_module_version": "1.2.0",
            "_view_name": "StyleView",
            "description_width": ""
          }
        },
        "7c5c680d124f411086158a9db5bf9779": {
          "model_module": "@jupyter-widgets/controls",
          "model_name": "HTMLModel",
          "model_module_version": "1.5.0",
          "state": {
            "_dom_classes": [],
            "_model_module": "@jupyter-widgets/controls",
            "_model_module_version": "1.5.0",
            "_model_name": "HTMLModel",
            "_view_count": null,
            "_view_module": "@jupyter-widgets/controls",
            "_view_module_version": "1.5.0",
            "_view_name": "HTMLView",
            "description": "",
            "description_tooltip": null,
            "layout": "IPY_MODEL_7f4cda3a41b24013970d6369870de871",
            "placeholder": "​",
            "style": "IPY_MODEL_5c69561e8b44459c985262886c24e881",
            "value": "<p>Click below to get started with a random movie and its recommendations.</p>"
          }
        },
        "7f4cda3a41b24013970d6369870de871": {
          "model_module": "@jupyter-widgets/base",
          "model_name": "LayoutModel",
          "model_module_version": "1.2.0",
          "state": {
            "_model_module": "@jupyter-widgets/base",
            "_model_module_version": "1.2.0",
            "_model_name": "LayoutModel",
            "_view_count": null,
            "_view_module": "@jupyter-widgets/base",
            "_view_module_version": "1.2.0",
            "_view_name": "LayoutView",
            "align_content": null,
            "align_items": null,
            "align_self": null,
            "border": null,
            "bottom": null,
            "display": null,
            "flex": null,
            "flex_flow": null,
            "grid_area": null,
            "grid_auto_columns": null,
            "grid_auto_flow": null,
            "grid_auto_rows": null,
            "grid_column": null,
            "grid_gap": null,
            "grid_row": null,
            "grid_template_areas": null,
            "grid_template_columns": null,
            "grid_template_rows": null,
            "height": null,
            "justify_content": null,
            "justify_items": null,
            "left": null,
            "margin": null,
            "max_height": null,
            "max_width": null,
            "min_height": null,
            "min_width": null,
            "object_fit": null,
            "object_position": null,
            "order": null,
            "overflow": null,
            "overflow_x": null,
            "overflow_y": null,
            "padding": null,
            "right": null,
            "top": null,
            "visibility": null,
            "width": null
          }
        },
        "5c69561e8b44459c985262886c24e881": {
          "model_module": "@jupyter-widgets/controls",
          "model_name": "DescriptionStyleModel",
          "model_module_version": "1.5.0",
          "state": {
            "_model_module": "@jupyter-widgets/controls",
            "_model_module_version": "1.5.0",
            "_model_name": "DescriptionStyleModel",
            "_view_count": null,
            "_view_module": "@jupyter-widgets/base",
            "_view_module_version": "1.2.0",
            "_view_name": "StyleView",
            "description_width": ""
          }
        },
        "6730c6910f6d43788cc26124965f0b96": {
          "model_module": "@jupyter-widgets/controls",
          "model_name": "ButtonModel",
          "model_module_version": "1.5.0",
          "state": {
            "_dom_classes": [],
            "_model_module": "@jupyter-widgets/controls",
            "_model_module_version": "1.5.0",
            "_model_name": "ButtonModel",
            "_view_count": null,
            "_view_module": "@jupyter-widgets/controls",
            "_view_module_version": "1.5.0",
            "_view_name": "ButtonView",
            "button_style": "",
            "description": "🎲 Pick Random Movie",
            "disabled": false,
            "icon": "",
            "layout": "IPY_MODEL_e3d5d682b784425b995b2a0fe4ab701f",
            "style": "IPY_MODEL_e59fcbd758604fb28d8652a3ecccea13",
            "tooltip": ""
          }
        },
        "e3d5d682b784425b995b2a0fe4ab701f": {
          "model_module": "@jupyter-widgets/base",
          "model_name": "LayoutModel",
          "model_module_version": "1.2.0",
          "state": {
            "_model_module": "@jupyter-widgets/base",
            "_model_module_version": "1.2.0",
            "_model_name": "LayoutModel",
            "_view_count": null,
            "_view_module": "@jupyter-widgets/base",
            "_view_module_version": "1.2.0",
            "_view_name": "LayoutView",
            "align_content": null,
            "align_items": null,
            "align_self": null,
            "border": null,
            "bottom": null,
            "display": null,
            "flex": null,
            "flex_flow": null,
            "grid_area": null,
            "grid_auto_columns": null,
            "grid_auto_flow": null,
            "grid_auto_rows": null,
            "grid_column": null,
            "grid_gap": null,
            "grid_row": null,
            "grid_template_areas": null,
            "grid_template_columns": null,
            "grid_template_rows": null,
            "height": null,
            "justify_content": null,
            "justify_items": null,
            "left": null,
            "margin": null,
            "max_height": null,
            "max_width": null,
            "min_height": null,
            "min_width": null,
            "object_fit": null,
            "object_position": null,
            "order": null,
            "overflow": null,
            "overflow_x": null,
            "overflow_y": null,
            "padding": null,
            "right": null,
            "top": null,
            "visibility": null,
            "width": null
          }
        },
        "e59fcbd758604fb28d8652a3ecccea13": {
          "model_module": "@jupyter-widgets/controls",
          "model_name": "ButtonStyleModel",
          "model_module_version": "1.5.0",
          "state": {
            "_model_module": "@jupyter-widgets/controls",
            "_model_module_version": "1.5.0",
            "_model_name": "ButtonStyleModel",
            "_view_count": null,
            "_view_module": "@jupyter-widgets/base",
            "_view_module_version": "1.2.0",
            "_view_name": "StyleView",
            "button_color": null,
            "font_weight": ""
          }
        },
        "142abf22b6da462f8a465778e9d3272f": {
          "model_module": "@jupyter-widgets/output",
          "model_name": "OutputModel",
          "model_module_version": "1.0.0",
          "state": {
            "_dom_classes": [],
            "_model_module": "@jupyter-widgets/output",
            "_model_module_version": "1.0.0",
            "_model_name": "OutputModel",
            "_view_count": null,
            "_view_module": "@jupyter-widgets/output",
            "_view_module_version": "1.0.0",
            "_view_name": "OutputView",
            "layout": "IPY_MODEL_cb44e5b401de4dbc923e5437458cc642",
            "msg_id": "",
            "outputs": [
              {
                "output_type": "stream",
                "name": "stdout",
                "text": [
                  "🍿 Recommendations for: Maria\n",
                  "\n",
                  "1. 2067\n",
                  "2. La Chimera\n",
                  "3. Kung Fu Panda 3\n",
                  "4. Alpha\n",
                  "5. Human Capital\n",
                  "6. Rush\n",
                  "7. Crayon Shin-chan the Movie: Our Dinosaur Diary\n",
                  "8. Salome\n",
                  "9. Love Is in the Green Wind\n",
                  "10. The Glassworker\n",
                  "11. The Supremes at Earl's All-You-Can-Eat\n",
                  "12. Milk\n"
                ]
              }
            ]
          }
        },
        "cb44e5b401de4dbc923e5437458cc642": {
          "model_module": "@jupyter-widgets/base",
          "model_name": "LayoutModel",
          "model_module_version": "1.2.0",
          "state": {
            "_model_module": "@jupyter-widgets/base",
            "_model_module_version": "1.2.0",
            "_model_name": "LayoutModel",
            "_view_count": null,
            "_view_module": "@jupyter-widgets/base",
            "_view_module_version": "1.2.0",
            "_view_name": "LayoutView",
            "align_content": null,
            "align_items": null,
            "align_self": null,
            "border": null,
            "bottom": null,
            "display": null,
            "flex": null,
            "flex_flow": null,
            "grid_area": null,
            "grid_auto_columns": null,
            "grid_auto_flow": null,
            "grid_auto_rows": null,
            "grid_column": null,
            "grid_gap": null,
            "grid_row": null,
            "grid_template_areas": null,
            "grid_template_columns": null,
            "grid_template_rows": null,
            "height": null,
            "justify_content": null,
            "justify_items": null,
            "left": null,
            "margin": null,
            "max_height": null,
            "max_width": null,
            "min_height": null,
            "min_width": null,
            "object_fit": null,
            "object_position": null,
            "order": null,
            "overflow": null,
            "overflow_x": null,
            "overflow_y": null,
            "padding": null,
            "right": null,
            "top": null,
            "visibility": null,
            "width": null
          }
        },
        "c2886a6e1a6a40b1973cf16c88ed8032": {
          "model_module": "@jupyter-widgets/controls",
          "model_name": "ButtonModel",
          "model_module_version": "1.5.0",
          "state": {
            "_dom_classes": [],
            "_model_module": "@jupyter-widgets/controls",
            "_model_module_version": "1.5.0",
            "_model_name": "ButtonModel",
            "_view_count": null,
            "_view_module": "@jupyter-widgets/controls",
            "_view_module_version": "1.5.0",
            "_view_name": "ButtonView",
            "button_style": "",
            "description": "🎯 Get Recommendations",
            "disabled": false,
            "icon": "",
            "layout": "IPY_MODEL_419460184838477dbd7b86f193f09bf3",
            "style": "IPY_MODEL_ffa71fb6f24b42c681d083f9ccf8858b",
            "tooltip": ""
          }
        },
        "419460184838477dbd7b86f193f09bf3": {
          "model_module": "@jupyter-widgets/base",
          "model_name": "LayoutModel",
          "model_module_version": "1.2.0",
          "state": {
            "_model_module": "@jupyter-widgets/base",
            "_model_module_version": "1.2.0",
            "_model_name": "LayoutModel",
            "_view_count": null,
            "_view_module": "@jupyter-widgets/base",
            "_view_module_version": "1.2.0",
            "_view_name": "LayoutView",
            "align_content": null,
            "align_items": null,
            "align_self": null,
            "border": null,
            "bottom": null,
            "display": null,
            "flex": null,
            "flex_flow": null,
            "grid_area": null,
            "grid_auto_columns": null,
            "grid_auto_flow": null,
            "grid_auto_rows": null,
            "grid_column": null,
            "grid_gap": null,
            "grid_row": null,
            "grid_template_areas": null,
            "grid_template_columns": null,
            "grid_template_rows": null,
            "height": null,
            "justify_content": null,
            "justify_items": null,
            "left": null,
            "margin": null,
            "max_height": null,
            "max_width": null,
            "min_height": null,
            "min_width": null,
            "object_fit": null,
            "object_position": null,
            "order": null,
            "overflow": null,
            "overflow_x": null,
            "overflow_y": null,
            "padding": null,
            "right": null,
            "top": null,
            "visibility": null,
            "width": null
          }
        },
        "ffa71fb6f24b42c681d083f9ccf8858b": {
          "model_module": "@jupyter-widgets/controls",
          "model_name": "ButtonStyleModel",
          "model_module_version": "1.5.0",
          "state": {
            "_model_module": "@jupyter-widgets/controls",
            "_model_module_version": "1.5.0",
            "_model_name": "ButtonStyleModel",
            "_view_count": null,
            "_view_module": "@jupyter-widgets/base",
            "_view_module_version": "1.2.0",
            "_view_name": "StyleView",
            "button_color": null,
            "font_weight": ""
          }
        }
      }
    }
  },
  "nbformat": 4,
  "nbformat_minor": 0
}